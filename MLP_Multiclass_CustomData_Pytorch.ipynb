{
  "nbformat": 4,
  "nbformat_minor": 0,
  "metadata": {
    "colab": {
      "provenance": [],
      "collapsed_sections": [],
      "authorship_tag": "ABX9TyPGycpVUNkwG5L6f/i9eYVk",
      "include_colab_link": true
    },
    "kernelspec": {
      "name": "python3",
      "display_name": "Python 3"
    },
    "language_info": {
      "name": "python"
    }
  },
  "cells": [
    {
      "cell_type": "markdown",
      "metadata": {
        "id": "view-in-github",
        "colab_type": "text"
      },
      "source": [
        "<a href=\"https://colab.research.google.com/github/diptaban/MLP_Multiclass_CustomData_Pytorch/blob/main/MLP_Multiclass_CustomData_Pytorch.ipynb\" target=\"_parent\"><img src=\"https://colab.research.google.com/assets/colab-badge.svg\" alt=\"Open In Colab\"/></a>"
      ]
    },
    {
      "cell_type": "code",
      "execution_count": 95,
      "metadata": {
        "colab": {
          "base_uri": "https://localhost:8080/",
          "height": 393
        },
        "id": "RwExROHt6DaF",
        "outputId": "231c05d9-e921-4702-bc64-f5e03723fad2"
      },
      "outputs": [
        {
          "output_type": "stream",
          "name": "stdout",
          "text": [
            "(50000, 2)\n",
            "(50000,)\n",
            "(50000, 1)\n",
            "(50000, 3)\n",
            "2\n",
            "3\n",
            "[0 1 2]\n"
          ]
        },
        {
          "output_type": "display_data",
          "data": {
            "text/plain": [
              "<Figure size 432x288 with 1 Axes>"
            ],
            "image/png": "[encoded data removed]"
          },
          "metadata": {
            "needs_background": "light"
          }
        }
      ],
      "source": [
        "import numpy as np\n",
        "import torch\n",
        "from torchvision import datasets, transforms\n",
        "\n",
        "from sklearn.datasets import make_blobs\n",
        "clstr_centers = 10\n",
        "train_samples = 50000\n",
        "test_samples = 100\n",
        "spread = 0.5\n",
        "rndm_state = 10\n",
        "\n",
        "x_train, y_train = make_blobs(n_samples=train_samples, centers=clstr_centers,\\\n",
        "                       cluster_std=spread, random_state=rndm_state)\n",
        "x_test, y_test = make_blobs(n_samples=test_samples, centers=clstr_centers,\\\n",
        "                       cluster_std=spread, random_state=rndm_state)\n",
        "\n",
        "\n",
        "print(x_train.shape)\n",
        "print(y_train.shape)\n",
        "\n",
        "import matplotlib.pyplot as plt\n",
        "plt.scatter(x_train[:,0],x_train[:,1],c = y_train, cmap ='jet')\n",
        "#plt.scatter(x_test[:,0],x_test[:,1],c = y_test,cmap ='viridis')\n",
        "\n",
        "y_train = np.expand_dims(y_train, axis=1)\n",
        "print(y_train.shape)\n",
        "\n",
        "Design_Matrix = np.concatenate((x_train,y_train),axis=1)\n",
        "print(Design_Matrix.shape)\n",
        "np.savetxt('train_data.txt', Design_Matrix, delimiter='\\t')\n",
        "\n",
        "print(x_train.shape[1])\n",
        "print(Design_Matrix.shape[1])\n",
        "\n",
        "print(np.arange(Design_Matrix.shape[1]))"
      ]
    },
    {
      "cell_type": "code",
      "source": [
        "\n",
        "class Dataset_1(torch.utils.data.Dataset):\n",
        "  \n",
        "  def __init__(self, src_file, n_rows=None):\n",
        "    all_xy = np.loadtxt(src_file, max_rows=n_rows,\n",
        "      usecols=np.arange(Design_Matrix.shape[1]), delimiter=\"\\t\",\n",
        "      skiprows=0, comments=\"#\", dtype=np.float32)\n",
        "\n",
        "    n = len(all_xy)\n",
        "    tmp_x = all_xy[0:n,0:x_train.shape[1]]  # all rows, cols [0,2)\n",
        "    tmp_y = all_xy[0:n,x_train.shape[1] ]   # 1-D required\n",
        "\n",
        "    self.x_data = \\\n",
        "      torch.tensor(tmp_x, dtype=torch.float32)\n",
        "    self.y_data = \\\n",
        "      torch.tensor(tmp_y, dtype=torch.int64)\n",
        "\n",
        "  def __len__(self):\n",
        "    return len(self.x_data)\n",
        "\n",
        "  def __getitem__(self, idx):\n",
        "    preds = self.x_data[idx]\n",
        "    trgts = self.y_data[idx] \n",
        "    sample = { \n",
        "      'predictors' : preds,\n",
        "      'targets' : trgts\n",
        "    }\n",
        "    return preds,trgts\n"
      ],
      "metadata": {
        "id": "P4-5j_SO6r_H"
      },
      "execution_count": 96,
      "outputs": []
    },
    {
      "cell_type": "code",
      "source": [
        "train_file = \"/content/train_data.txt\"\n",
        "train_ds = Dataset_1(train_file, n_rows=train_samples) \n",
        "\n",
        "#test_file = \".\\\\Data\\\\students_test.txt\"\n",
        "#test_ds = Dataset_1(test_file)  # all 40 rows\n",
        "\n",
        "bat_size = 32\n",
        "train_loader = torch.utils.data.DataLoader(train_ds,\n",
        "  batch_size=bat_size, shuffle=True)\n",
        "\n",
        "for (X_train, Y_train) in train_loader:\n",
        "    print('X_train:', X_train.size(), 'type:', X_train.type())\n",
        "    print('y_train:', Y_train.size(), 'type:', Y_train.type())\n",
        "    #print(X_train)\n",
        "    break"
      ],
      "metadata": {
        "colab": {
          "base_uri": "https://localhost:8080/"
        },
        "id": "JQJteUu26wsI",
        "outputId": "98b33e3b-64c1-44b9-bc63-dd835bac38bd"
      },
      "execution_count": 97,
      "outputs": [
        {
          "output_type": "stream",
          "name": "stdout",
          "text": [
            "X_train: torch.Size([32, 2]) type: torch.FloatTensor\n",
            "y_train: torch.Size([32]) type: torch.LongTensor\n"
          ]
        }
      ]
    },
    {
      "cell_type": "code",
      "source": [
        "class Feedforward(torch.nn.Module):\n",
        "        def __init__(self, input_size, hidden_size1,hidden_size2, hidden_size3, output_size):\n",
        "            super(Feedforward, self).__init__()\n",
        "            self.input_size = input_size\n",
        "            self.hidden_size1  = hidden_size1\n",
        "            self.hidden_size2 = hidden_size2\n",
        "            self.hidden_size3 = hidden_size3\n",
        "            self.output_size = output_size\n",
        "            self.fc1 = torch.nn.Linear(self.input_size, self.hidden_size1)\n",
        "            self.relu1 = torch.nn.ReLU()\n",
        "            self.fc2 = torch.nn.Linear(self.hidden_size1, self.hidden_size2)\n",
        "            self.relu2 = torch.nn.ReLU()\n",
        "            self.fc3 = torch.nn.Linear(self.hidden_size2,self.hidden_size3)\n",
        "            self.relu3 = torch.nn.ReLU()\n",
        "            self.fc4 = torch.nn.Linear(self.hidden_size3,self.output_size)\n",
        "           \n",
        "        def forward(self, x):\n",
        "            z1 = self.fc1(x)\n",
        "            a1 = self.relu1(z1)\n",
        "            z2 = self.fc2(a1)\n",
        "            a2 = self.relu2(z2)\n",
        "            z3 = self.fc3(a2)\n",
        "            a3 = self.relu3(z3)\n",
        "            z4 = self.fc4(a3)\n",
        "            a4 = torch.nn.functional.log_softmax(z4,dim=1) #not needed if \n",
        "            # nn.CrossEntropyLoss() is used\n",
        "            return a4\n",
        "\n",
        "\n",
        "model = Feedforward(2,60,40,20,10)\n",
        "optimizer = torch.optim.SGD(model.parameters(), lr=0.01, momentum=0.5)\n",
        "criterion = torch.nn.CrossEntropyLoss()\n"
      ],
      "metadata": {
        "id": "YH1kFRHuvMb1"
      },
      "execution_count": 98,
      "outputs": []
    },
    {
      "cell_type": "code",
      "source": [
        "def train(epoch, log_interval=200):\n",
        "    # Set model to training mode\n",
        "    model.train()\n",
        "    \n",
        "    # Loop over each batch from the training set\n",
        "    for batch_idx, (data, target) in enumerate(train_loader):\n",
        "        # Copy data to GPU if needed\n",
        "        data = data\n",
        "        target = target\n",
        "\n",
        "        # Zero gradient buffers\n",
        "        optimizer.zero_grad() \n",
        "        \n",
        "        # Pass data through the network\n",
        "        output = model(data)\n",
        "\n",
        "        # Calculate loss\n",
        "        loss = criterion(output, target)\n",
        "\n",
        "        # Backpropagate\n",
        "        loss.backward()\n",
        "        \n",
        "        # Update weights\n",
        "        optimizer.step()\n",
        "        \n",
        "        if batch_idx % log_interval == 0:\n",
        "            print('Train Epoch: {} [{}/{} ({:.0f}%)]\\tLoss: {:.6f}'.format(\n",
        "                epoch, batch_idx * len(data), len(train_loader.dataset),\n",
        "                100. * batch_idx / len(train_loader), loss.data.item()))"
      ],
      "metadata": {
        "id": "mPCCPMLzxErs"
      },
      "execution_count": 99,
      "outputs": []
    },
    {
      "cell_type": "code",
      "source": [
        "def validate(loss_vector, accuracy_vector):\n",
        "    model.eval()\n",
        "    val_loss, correct = 0, 0\n",
        "    for data, target in train_loader:\n",
        "        data = data\n",
        "        target = target\n",
        "        output = model(data)\n",
        "        #print(output.shape)\n",
        "        val_loss += criterion(output, target).data.item()\n",
        "        pred = output.data.max(1)[1] # get the index of the max log-probability\n",
        "        correct += pred.eq(target.data).cpu().sum()\n",
        "\n",
        "    val_loss /= len(train_loader)\n",
        "    loss_vector.append(val_loss)\n",
        "\n",
        "    accuracy = 100. * correct.to(torch.float32) / len(train_loader.dataset)\n",
        "    accuracy_vector.append(accuracy)\n",
        "    \n",
        "    print('\\nValidation set: Average loss: {:.4f}, Accuracy: {}/{} ({:.0f}%)\\n'.format(\n",
        "        val_loss, correct, len(train_loader.dataset), accuracy))"
      ],
      "metadata": {
        "id": "Y4SaMg_hxx5J"
      },
      "execution_count": 100,
      "outputs": []
    },
    {
      "cell_type": "code",
      "source": [
        "epochs = 10\n",
        "lossv, accv = [], []\n",
        "for epoch in range(1, epochs + 1):\n",
        "    train(epoch)\n",
        "    validate(lossv, accv)"
      ],
      "metadata": {
        "id": "cEhsletyyNfP",
        "colab": {
          "base_uri": "https://localhost:8080/"
        },
        "outputId": "75375b7a-842e-4c1d-ff16-5489d5323e93"
      },
      "execution_count": 101,
      "outputs": [
        {
          "output_type": "stream",
          "name": "stdout",
          "text": [
            "Train Epoch: 1 [0/50000 (0%)]\tLoss: 2.309499\n",
            "Train Epoch: 1 [6400/50000 (13%)]\tLoss: 0.364959\n",
            "Train Epoch: 1 [12800/50000 (26%)]\tLoss: 0.222728\n",
            "Train Epoch: 1 [19200/50000 (38%)]\tLoss: 0.189507\n",
            "Train Epoch: 1 [25600/50000 (51%)]\tLoss: 0.152239\n",
            "Train Epoch: 1 [32000/50000 (64%)]\tLoss: 0.130957\n",
            "Train Epoch: 1 [38400/50000 (77%)]\tLoss: 0.142165\n",
            "Train Epoch: 1 [44800/50000 (90%)]\tLoss: 0.087580\n",
            "\n",
            "Validation set: Average loss: 0.0762, Accuracy: 48887/50000 (98%)\n",
            "\n",
            "Train Epoch: 2 [0/50000 (0%)]\tLoss: 0.026017\n",
            "Train Epoch: 2 [6400/50000 (13%)]\tLoss: 0.021768\n",
            "Train Epoch: 2 [12800/50000 (26%)]\tLoss: 0.013379\n",
            "Train Epoch: 2 [19200/50000 (38%)]\tLoss: 0.027787\n",
            "Train Epoch: 2 [25600/50000 (51%)]\tLoss: 0.156836\n",
            "Train Epoch: 2 [32000/50000 (64%)]\tLoss: 0.059379\n",
            "Train Epoch: 2 [38400/50000 (77%)]\tLoss: 0.007813\n",
            "Train Epoch: 2 [44800/50000 (90%)]\tLoss: 0.016136\n",
            "\n",
            "Validation set: Average loss: 0.0297, Accuracy: 49607/50000 (99%)\n",
            "\n",
            "Train Epoch: 3 [0/50000 (0%)]\tLoss: 0.094479\n",
            "Train Epoch: 3 [6400/50000 (13%)]\tLoss: 0.017765\n",
            "Train Epoch: 3 [12800/50000 (26%)]\tLoss: 0.053977\n",
            "Train Epoch: 3 [19200/50000 (38%)]\tLoss: 0.010630\n",
            "Train Epoch: 3 [25600/50000 (51%)]\tLoss: 0.016204\n",
            "Train Epoch: 3 [32000/50000 (64%)]\tLoss: 0.007037\n",
            "Train Epoch: 3 [38400/50000 (77%)]\tLoss: 0.006439\n",
            "Train Epoch: 3 [44800/50000 (90%)]\tLoss: 0.020394\n",
            "\n",
            "Validation set: Average loss: 0.0316, Accuracy: 49428/50000 (99%)\n",
            "\n",
            "Train Epoch: 4 [0/50000 (0%)]\tLoss: 0.009291\n",
            "Train Epoch: 4 [6400/50000 (13%)]\tLoss: 0.010239\n",
            "Train Epoch: 4 [12800/50000 (26%)]\tLoss: 0.002285\n",
            "Train Epoch: 4 [19200/50000 (38%)]\tLoss: 0.002546\n",
            "Train Epoch: 4 [25600/50000 (51%)]\tLoss: 0.002829\n",
            "Train Epoch: 4 [32000/50000 (64%)]\tLoss: 0.021390\n",
            "Train Epoch: 4 [38400/50000 (77%)]\tLoss: 0.069213\n",
            "Train Epoch: 4 [44800/50000 (90%)]\tLoss: 0.014801\n",
            "\n",
            "Validation set: Average loss: 0.0257, Accuracy: 49525/50000 (99%)\n",
            "\n",
            "Train Epoch: 5 [0/50000 (0%)]\tLoss: 0.028864\n",
            "Train Epoch: 5 [6400/50000 (13%)]\tLoss: 0.012877\n",
            "Train Epoch: 5 [12800/50000 (26%)]\tLoss: 0.002004\n",
            "Train Epoch: 5 [19200/50000 (38%)]\tLoss: 0.000834\n",
            "Train Epoch: 5 [25600/50000 (51%)]\tLoss: 0.000777\n",
            "Train Epoch: 5 [32000/50000 (64%)]\tLoss: 0.006235\n",
            "Train Epoch: 5 [38400/50000 (77%)]\tLoss: 0.009608\n",
            "Train Epoch: 5 [44800/50000 (90%)]\tLoss: 0.046819\n",
            "\n",
            "Validation set: Average loss: 0.0205, Accuracy: 49619/50000 (99%)\n",
            "\n",
            "Train Epoch: 6 [0/50000 (0%)]\tLoss: 0.002469\n",
            "Train Epoch: 6 [6400/50000 (13%)]\tLoss: 0.005808\n",
            "Train Epoch: 6 [12800/50000 (26%)]\tLoss: 0.005492\n",
            "Train Epoch: 6 [19200/50000 (38%)]\tLoss: 0.000319\n",
            "Train Epoch: 6 [25600/50000 (51%)]\tLoss: 0.021296\n",
            "Train Epoch: 6 [32000/50000 (64%)]\tLoss: 0.009600\n",
            "Train Epoch: 6 [38400/50000 (77%)]\tLoss: 0.001246\n",
            "Train Epoch: 6 [44800/50000 (90%)]\tLoss: 0.001562\n",
            "\n",
            "Validation set: Average loss: 0.0069, Accuracy: 49898/50000 (100%)\n",
            "\n",
            "Train Epoch: 7 [0/50000 (0%)]\tLoss: 0.000788\n",
            "Train Epoch: 7 [6400/50000 (13%)]\tLoss: 0.000718\n",
            "Train Epoch: 7 [12800/50000 (26%)]\tLoss: 0.002033\n",
            "Train Epoch: 7 [19200/50000 (38%)]\tLoss: 0.003799\n",
            "Train Epoch: 7 [25600/50000 (51%)]\tLoss: 0.001027\n",
            "Train Epoch: 7 [32000/50000 (64%)]\tLoss: 0.000336\n",
            "Train Epoch: 7 [38400/50000 (77%)]\tLoss: 0.001187\n",
            "Train Epoch: 7 [44800/50000 (90%)]\tLoss: 0.001425\n",
            "\n",
            "Validation set: Average loss: 0.0036, Accuracy: 49953/50000 (100%)\n",
            "\n",
            "Train Epoch: 8 [0/50000 (0%)]\tLoss: 0.048917\n",
            "Train Epoch: 8 [6400/50000 (13%)]\tLoss: 0.012318\n",
            "Train Epoch: 8 [12800/50000 (26%)]\tLoss: 0.000689\n",
            "Train Epoch: 8 [19200/50000 (38%)]\tLoss: 0.003110\n",
            "Train Epoch: 8 [25600/50000 (51%)]\tLoss: 0.000295\n",
            "Train Epoch: 8 [32000/50000 (64%)]\tLoss: 0.000835\n",
            "Train Epoch: 8 [38400/50000 (77%)]\tLoss: 0.001261\n",
            "Train Epoch: 8 [44800/50000 (90%)]\tLoss: 0.000632\n",
            "\n",
            "Validation set: Average loss: 0.0034, Accuracy: 49956/50000 (100%)\n",
            "\n",
            "Train Epoch: 9 [0/50000 (0%)]\tLoss: 0.000495\n",
            "Train Epoch: 9 [6400/50000 (13%)]\tLoss: 0.000726\n",
            "Train Epoch: 9 [12800/50000 (26%)]\tLoss: 0.000409\n",
            "Train Epoch: 9 [19200/50000 (38%)]\tLoss: 0.006384\n",
            "Train Epoch: 9 [25600/50000 (51%)]\tLoss: 0.002196\n",
            "Train Epoch: 9 [32000/50000 (64%)]\tLoss: 0.000541\n",
            "Train Epoch: 9 [38400/50000 (77%)]\tLoss: 0.000777\n",
            "Train Epoch: 9 [44800/50000 (90%)]\tLoss: 0.000655\n",
            "\n",
            "Validation set: Average loss: 0.0035, Accuracy: 49950/50000 (100%)\n",
            "\n",
            "Train Epoch: 10 [0/50000 (0%)]\tLoss: 0.004245\n",
            "Train Epoch: 10 [6400/50000 (13%)]\tLoss: 0.001023\n",
            "Train Epoch: 10 [12800/50000 (26%)]\tLoss: 0.000197\n",
            "Train Epoch: 10 [19200/50000 (38%)]\tLoss: 0.004554\n",
            "Train Epoch: 10 [25600/50000 (51%)]\tLoss: 0.001489\n",
            "Train Epoch: 10 [32000/50000 (64%)]\tLoss: 0.202357\n",
            "Train Epoch: 10 [38400/50000 (77%)]\tLoss: 0.001354\n",
            "Train Epoch: 10 [44800/50000 (90%)]\tLoss: 0.000192\n",
            "\n",
            "Validation set: Average loss: 0.0027, Accuracy: 49964/50000 (100%)\n",
            "\n"
          ]
        }
      ]
    },
    {
      "cell_type": "code",
      "source": [
        "for data,target in train_loader:\n",
        "  output = model(data)\n",
        "  pred1 = (output.data)\n",
        "  print(pred1)\n",
        "  pred =  pred1.max(1)\n",
        "  print(pred)\n",
        "  break"
      ],
      "metadata": {
        "id": "kaczXcGnoz8X",
        "colab": {
          "base_uri": "https://localhost:8080/"
        },
        "outputId": "4891ca2f-ec2e-4df0-9e6c-8edc26906ebf"
      },
      "execution_count": 102,
      "outputs": [
        {
          "output_type": "stream",
          "name": "stdout",
          "text": [
            "tensor([[-1.3739e+01, -4.0078e+01, -2.6091e+01, -2.8941e+01, -4.3966e+01,\n",
            "         -7.9025e+01, -3.9606e+01, -9.0731e+00, -1.1575e-04, -3.1789e+01],\n",
            "        [-3.9320e+01, -7.8168e+00, -3.4399e+01, -2.3161e+01, -3.3011e+01,\n",
            "         -4.0308e-04, -3.3926e+01, -4.6107e+01, -4.6617e+01, -1.7352e+01],\n",
            "        [-1.8429e+01, -1.7555e+01, -2.2352e+01, -2.3929e+01, -3.0774e+01,\n",
            "         -4.5440e+01, -2.6622e+01, -2.7748e-04, -8.1992e+00, -1.2856e+01],\n",
            "        [-1.5697e+01, -1.1813e+01, -1.8865e+01, -2.0044e+01, -2.6453e+01,\n",
            "         -3.3418e+01, -2.2880e+01, -1.1442e-02, -1.0020e+01, -4.4808e+00],\n",
            "        [-2.3594e+01, -1.1383e+01, -1.8747e+01, -4.8994e-05, -2.0446e+01,\n",
            "         -1.4182e+01, -1.0206e+01, -3.0389e+01, -1.9166e+01, -2.2788e+01],\n",
            "        [-4.4282e+01, -1.0368e+01, -3.9219e+01, -2.6781e+01, -3.7648e+01,\n",
            "         -3.1471e-05, -3.8767e+01, -5.3474e+01, -5.3601e+01, -1.9582e+01],\n",
            "        [-6.9487e+00, -3.2219e+01, -1.7112e+01, -2.1843e+01, -3.4497e+01,\n",
            "         -6.6586e+01, -3.1398e+01, -8.1802e+00, -1.2408e-03, -2.6662e+01],\n",
            "        [-2.1460e+01, -6.9020e-05, -1.5654e+01, -1.5853e+01, -1.9406e+01,\n",
            "         -1.4463e+01, -1.8784e+01, -1.2394e+01, -1.8661e+01, -9.6539e+00],\n",
            "        [-8.9080e+00, -3.6628e+01, -2.0829e+01, -2.4995e+01, -3.9102e+01,\n",
            "         -7.3477e+01, -3.5519e+01, -8.9548e+00, -2.6437e-04, -2.9366e+01],\n",
            "        [-1.7524e-05, -5.1289e+01, -1.1417e+01, -3.0996e+01, -4.1590e+01,\n",
            "         -9.7119e+01, -4.2262e+01, -2.3308e+01, -1.1927e+01, -4.2257e+01],\n",
            "        [-4.0184e+01, -2.6747e+01, -1.6325e+01, -1.3957e+01, -1.0407e+01,\n",
            "         -3.1771e+01, -3.1232e-05, -3.1663e+01, -2.6269e+01, -3.1896e+01],\n",
            "        [-4.2526e+01, -1.0377e+01, -3.7790e+01, -2.6746e+01, -3.6081e+01,\n",
            "         -3.1113e-05, -3.7625e+01, -5.0876e+01, -5.1764e+01, -1.8142e+01],\n",
            "        [-3.9667e+01, -2.5642e+01, -1.6548e+01, -1.2645e+01, -1.1108e+01,\n",
            "         -3.0919e+01, -1.8358e-05, -3.1379e+01, -2.5163e+01, -3.1563e+01],\n",
            "        [-2.2676e+01, -1.0869e+01, -1.7965e+01, -7.6649e-05, -1.9620e+01,\n",
            "         -1.3763e+01, -9.7812e+00, -2.8950e+01, -1.8210e+01, -2.1901e+01],\n",
            "        [-4.6923e+01, -5.0827e+01, -1.1886e+01, -4.4741e+01, -7.1525e-06,\n",
            "         -4.7823e+01, -1.5317e+01, -5.2679e+01, -5.3863e+01, -4.7032e+01],\n",
            "        [-4.2235e+01, -4.5682e+01, -1.0454e+01, -4.0302e+01, -2.9921e-05,\n",
            "         -4.3514e+01, -1.3719e+01, -4.7288e+01, -4.8318e+01, -4.2525e+01],\n",
            "        [-3.8695e+01, -2.5296e+01, -1.6016e+01, -1.2839e+01, -1.0537e+01,\n",
            "         -3.0348e+01, -2.9325e-05, -3.0425e+01, -2.4836e+01, -3.0725e+01],\n",
            "        [-2.6618e+01, -1.3246e+01, -2.0641e+01, -2.6106e-05, -2.2238e+01,\n",
            "         -1.6350e+01, -1.0623e+01, -3.3761e+01, -2.1244e+01, -2.5509e+01],\n",
            "        [-3.9780e+01, -4.1708e+01, -1.0033e+01, -3.6154e+01, -5.6384e-05,\n",
            "         -3.9808e+01, -1.1294e+01, -4.3053e+01, -4.3967e+01, -3.8937e+01],\n",
            "        [-1.2969e+01, -3.6731e+01, -2.3839e+01, -2.6932e+01, -4.0780e+01,\n",
            "         -7.3780e+01, -3.6640e+01, -8.3261e+00, -2.4459e-04, -2.9791e+01],\n",
            "        [-4.0922e+01, -9.7022e+00, -3.6284e+01, -2.5839e+01, -3.4551e+01,\n",
            "         -6.1152e-05, -3.6156e+01, -4.8411e+01, -4.9609e+01, -1.7236e+01],\n",
            "        [-1.3375e+01, -3.9561e+01, -2.5562e+01, -2.8514e+01, -4.3385e+01,\n",
            "         -7.8218e+01, -3.9088e+01, -9.0167e+00, -1.2290e-04, -3.1475e+01],\n",
            "        [-1.3884e+01, -2.2003e+01, -1.4186e-05, -2.2585e+01, -1.1261e+01,\n",
            "         -4.3523e+01, -1.4727e+01, -1.8952e+01, -1.8678e+01, -2.6330e+01],\n",
            "        [-2.1738e+01, -7.8297e+00, -2.1813e+01, -2.0865e+01, -2.7360e+01,\n",
            "         -1.6234e+01, -2.5793e+01, -1.4070e+01, -2.3978e+01, -3.9879e-04],\n",
            "        [-4.3266e+01, -4.4000e+01, -1.0975e+01, -3.7356e+01, -4.9113e-05,\n",
            "         -4.2426e+01, -1.0350e+01, -4.5056e+01, -4.6154e+01, -4.0992e+01],\n",
            "        [-3.8705e+01, -2.3766e+01, -1.6584e+01, -1.0260e+01, -1.2068e+01,\n",
            "         -2.9474e+01, -4.0888e-05, -3.1338e+01, -2.3336e+01, -3.1179e+01],\n",
            "        [-2.4848e+01, -1.1557e+01, -1.9910e+01, -2.5272e-05, -2.1728e+01,\n",
            "         -1.4288e+01, -1.1106e+01, -3.2332e+01, -2.0576e+01, -2.3726e+01],\n",
            "        [-1.5879e+01, -8.0718e+00, -1.7889e+01, -1.8234e+01, -2.4698e+01,\n",
            "         -2.4038e+01, -2.1973e+01, -3.5170e+00, -1.3644e+01, -3.0463e-02],\n",
            "        [-2.0649e+01, -9.5615e+00, -2.1919e+01, -2.1242e+01, -2.8024e+01,\n",
            "         -1.9784e+01, -2.6032e+01, -1.1679e+01, -2.1895e+01, -7.8913e-05],\n",
            "        [-2.2662e+01, -6.1033e-05, -1.7130e+01, -1.5464e+01, -1.9938e+01,\n",
            "         -1.1186e+01, -1.9612e+01, -1.5927e+01, -2.1172e+01, -9.9684e+00],\n",
            "        [-4.1658e+01, -2.7620e+01, -1.7040e+01, -1.4282e+01, -1.0930e+01,\n",
            "         -3.2832e+01, -1.8477e-05, -3.2843e+01, -2.7122e+01, -3.3030e+01],\n",
            "        [-4.2628e+01, -2.8878e+01, -1.7015e+01, -1.5442e+01, -1.0485e+01,\n",
            "         -3.3951e+01, -2.8133e-05, -3.3675e+01, -2.8367e+01, -3.3807e+01]])\n",
            "torch.return_types.max(\n",
            "values=tensor([-1.1575e-04, -4.0308e-04, -2.7748e-04, -1.1442e-02, -4.8994e-05,\n",
            "        -3.1471e-05, -1.2408e-03, -6.9020e-05, -2.6437e-04, -1.7524e-05,\n",
            "        -3.1232e-05, -3.1113e-05, -1.8358e-05, -7.6649e-05, -7.1525e-06,\n",
            "        -2.9921e-05, -2.9325e-05, -2.6106e-05, -5.6384e-05, -2.4459e-04,\n",
            "        -6.1152e-05, -1.2290e-04, -1.4186e-05, -3.9879e-04, -4.9113e-05,\n",
            "        -4.0888e-05, -2.5272e-05, -3.0463e-02, -7.8913e-05, -6.1033e-05,\n",
            "        -1.8477e-05, -2.8133e-05]),\n",
            "indices=tensor([8, 5, 7, 7, 3, 5, 8, 1, 8, 0, 6, 5, 6, 3, 4, 4, 6, 3, 4, 8, 5, 8, 2, 9,\n",
            "        4, 6, 3, 9, 9, 1, 6, 6]))\n"
          ]
        }
      ]
    },
    {
      "cell_type": "code",
      "source": [
        "print(x_train.shape)\n",
        "x_train = torch.FloatTensor(x_train)\n",
        "op = model(x_train)\n",
        "pred1 = (op)\n",
        "#print(pred1)\n",
        "pred =  pred1.max(1)[1]\n",
        "print(pred)"
      ],
      "metadata": {
        "colab": {
          "base_uri": "https://localhost:8080/"
        },
        "id": "1VssVmdp3yHf",
        "outputId": "582d4f67-f9a2-4b5b-d9d3-96c61c028bb8"
      },
      "execution_count": 103,
      "outputs": [
        {
          "output_type": "stream",
          "name": "stdout",
          "text": [
            "(50000, 2)\n",
            "tensor([0, 9, 5,  ..., 1, 1, 6])\n"
          ]
        }
      ]
    },
    {
      "cell_type": "code",
      "source": [
        "import numpy as np\n",
        "# Plotting Decision Boundary\n",
        "X = x_train.T\n",
        "X = X.T\n",
        " # Set min and max values and give it some padding\n",
        "x_min, x_max = X[:,0].min() -2 , X[:,0].max() + 2\n",
        "y_min, y_max = X[:,1].min() -2, X[:,1].max() + 2\n",
        "h = 0.1\n",
        "\n",
        "# Generate a grid of points with distance h between them\n",
        "xx, yy = np.meshgrid(np.arange(x_min, x_max, h), np.arange(y_min, y_max, h))\n",
        "# Predict the function value for the whole grid\n",
        "print('xx shape:', xx.shape)\n",
        "Xn = (np.c_[xx.ravel(),yy.ravel()])\n",
        "print(Xn.shape)\n",
        "Xn = torch.FloatTensor(Xn)\n",
        "print(Xn.shape)\n",
        "#P = predict(W1,W2,b1,b2,Xn)\n",
        "P = (model(Xn)) # prediction of all points in the meshgrid\n",
        "P = P.max(1)[1]\n",
        "\n",
        "PP = P.detach().numpy()\n",
        "print(P.shape)\n",
        "PP = PP.reshape(xx.shape)\n",
        "print(PP.shape)\n",
        "\n",
        "plt.contourf(xx, yy, PP, cmap='tab20b')\n",
        "plt.ylabel('x2')\n",
        "plt.xlabel('x1')\n",
        "\n",
        "plt.scatter(x_train[:,0],x_train[:,1],c = y_train, cmap ='jet')"
      ],
      "metadata": {
        "colab": {
          "base_uri": "https://localhost:8080/",
          "height": 389
        },
        "id": "mviwnCco4WW1",
        "outputId": "2a0ff39a-bed1-41ec-ca0a-9c26e2d2260e"
      },
      "execution_count": 104,
      "outputs": [
        {
          "output_type": "stream",
          "name": "stdout",
          "text": [
            "xx shape: (266, 263)\n",
            "(69958, 2)\n",
            "torch.Size([69958, 2])\n",
            "torch.Size([69958])\n",
            "(266, 263)\n"
          ]
        },
        {
          "output_type": "execute_result",
          "data": {
            "text/plain": [
              "<matplotlib.collections.PathCollection at 0x7fc0c0032550>"
            ]
          },
          "metadata": {},
          "execution_count": 104
        },
        {
          "output_type": "display_data",
          "data": {
            "text/plain": [
              "<Figure size 432x288 with 1 Axes>"
            ],
            "image/png": "[encoded data removed]"
          },
          "metadata": {
            "needs_background": "light"
          }
        }
      ]
    }
  ]
}